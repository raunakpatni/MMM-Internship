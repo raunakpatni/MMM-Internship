{
 "cells": [
  {
   "cell_type": "code",
   "execution_count": 2,
   "metadata": {
    "collapsed": true
   },
   "outputs": [],
   "source": [
    "import pandas as pd\n",
    "import matplotlib.pyplot as plt\n",
    "import numpy as np"
   ]
  },
  {
   "cell_type": "markdown",
   "metadata": {},
   "source": [
    "## Step 1 Get the required Data"
   ]
  },
  {
   "cell_type": "code",
   "execution_count": 48,
   "metadata": {
    "collapsed": true
   },
   "outputs": [],
   "source": [
    "\n",
    "train= pd.read_csv(\"D1 - Training Dataset.csv\")\n",
    "valid= pd.read_csv(\"D2 - Validation Dataset.csv\")"
   ]
  },
  {
   "cell_type": "code",
   "execution_count": 49,
   "metadata": {
    "collapsed": true
   },
   "outputs": [],
   "source": [
    "x=train.iloc[:,2:].values\n",
    "y=train.iloc[:,1].values"
   ]
  },
  {
   "cell_type": "markdown",
   "metadata": {},
   "source": [
    "## Step 2 Divide Data into Test and Train\n",
    "\n",
    "### Spliting Data in Train Test Validate Sets"
   ]
  },
  {
   "cell_type": "code",
   "execution_count": 50,
   "metadata": {},
   "outputs": [],
   "source": [
    "from sklearn.cross_validation import train_test_split\n",
    "x_train, x_test, y_train, y_test = train_test_split(x, y, test_size = 0.2, random_state = 0)"
   ]
  },
  {
   "cell_type": "code",
   "execution_count": 51,
   "metadata": {
    "collapsed": true
   },
   "outputs": [],
   "source": [
    "x_val=valid.iloc[:,2:].values\n",
    "y_val=valid.iloc[:,1].values"
   ]
  },
  {
   "cell_type": "markdown",
   "metadata": {},
   "source": [
    "## Step 3 Check Data for any abnormalities and minssing values."
   ]
  },
  {
   "cell_type": "code",
   "execution_count": 109,
   "metadata": {},
   "outputs": [
    {
     "data": {
      "text/html": [
       "<div>\n",
       "<style>\n",
       "    .dataframe thead tr:only-child th {\n",
       "        text-align: right;\n",
       "    }\n",
       "\n",
       "    .dataframe thead th {\n",
       "        text-align: left;\n",
       "    }\n",
       "\n",
       "    .dataframe tbody tr th {\n",
       "        vertical-align: top;\n",
       "    }\n",
       "</style>\n",
       "<table border=\"1\" class=\"dataframe\">\n",
       "  <thead>\n",
       "    <tr style=\"text-align: right;\">\n",
       "      <th></th>\n",
       "      <th>Sno</th>\n",
       "      <th>Target</th>\n",
       "      <th>V1</th>\n",
       "      <th>V2</th>\n",
       "      <th>V3</th>\n",
       "      <th>V4</th>\n",
       "      <th>V5</th>\n",
       "      <th>V6</th>\n",
       "      <th>V7</th>\n",
       "      <th>V8</th>\n",
       "      <th>V9</th>\n",
       "      <th>V10</th>\n",
       "      <th>V11</th>\n",
       "      <th>V12</th>\n",
       "      <th>V13</th>\n",
       "      <th>V14</th>\n",
       "      <th>V15</th>\n",
       "      <th>V16</th>\n",
       "    </tr>\n",
       "  </thead>\n",
       "  <tbody>\n",
       "    <tr>\n",
       "      <th>count</th>\n",
       "      <td>2053.000000</td>\n",
       "      <td>2053.000000</td>\n",
       "      <td>2053.000000</td>\n",
       "      <td>2053.000000</td>\n",
       "      <td>2053.000000</td>\n",
       "      <td>2.053000e+03</td>\n",
       "      <td>2053.000000</td>\n",
       "      <td>2.053000e+03</td>\n",
       "      <td>2053.000000</td>\n",
       "      <td>2.053000e+03</td>\n",
       "      <td>2053.000000</td>\n",
       "      <td>2.053000e+03</td>\n",
       "      <td>2053.000000</td>\n",
       "      <td>2.053000e+03</td>\n",
       "      <td>2053.000000</td>\n",
       "      <td>2.053000e+03</td>\n",
       "      <td>2053.000000</td>\n",
       "      <td>2.053000e+03</td>\n",
       "    </tr>\n",
       "    <tr>\n",
       "      <th>mean</th>\n",
       "      <td>1027.000000</td>\n",
       "      <td>469863.614223</td>\n",
       "      <td>841.081344</td>\n",
       "      <td>39.469557</td>\n",
       "      <td>0.471505</td>\n",
       "      <td>1.437942e+06</td>\n",
       "      <td>0.226985</td>\n",
       "      <td>5.403381e+05</td>\n",
       "      <td>0.177789</td>\n",
       "      <td>7.062270e+04</td>\n",
       "      <td>0.237214</td>\n",
       "      <td>1.837478e+05</td>\n",
       "      <td>0.004384</td>\n",
       "      <td>1.062591e+05</td>\n",
       "      <td>0.003410</td>\n",
       "      <td>2.318558e+03</td>\n",
       "      <td>1.451047</td>\n",
       "      <td>6.787432e+04</td>\n",
       "    </tr>\n",
       "    <tr>\n",
       "      <th>std</th>\n",
       "      <td>592.794371</td>\n",
       "      <td>183152.965251</td>\n",
       "      <td>32.133762</td>\n",
       "      <td>7.212973</td>\n",
       "      <td>0.678112</td>\n",
       "      <td>3.286544e+06</td>\n",
       "      <td>0.548001</td>\n",
       "      <td>2.410844e+06</td>\n",
       "      <td>0.444868</td>\n",
       "      <td>2.608625e+05</td>\n",
       "      <td>0.510836</td>\n",
       "      <td>9.706686e+05</td>\n",
       "      <td>0.079474</td>\n",
       "      <td>4.685899e+06</td>\n",
       "      <td>0.079521</td>\n",
       "      <td>5.063420e+04</td>\n",
       "      <td>0.778090</td>\n",
       "      <td>1.189231e+05</td>\n",
       "    </tr>\n",
       "    <tr>\n",
       "      <th>min</th>\n",
       "      <td>1.000000</td>\n",
       "      <td>147000.000000</td>\n",
       "      <td>721.000000</td>\n",
       "      <td>25.000000</td>\n",
       "      <td>0.000000</td>\n",
       "      <td>0.000000e+00</td>\n",
       "      <td>0.000000</td>\n",
       "      <td>0.000000e+00</td>\n",
       "      <td>0.000000</td>\n",
       "      <td>0.000000e+00</td>\n",
       "      <td>0.000000</td>\n",
       "      <td>0.000000e+00</td>\n",
       "      <td>0.000000</td>\n",
       "      <td>0.000000e+00</td>\n",
       "      <td>0.000000</td>\n",
       "      <td>0.000000e+00</td>\n",
       "      <td>0.000000</td>\n",
       "      <td>0.000000e+00</td>\n",
       "    </tr>\n",
       "    <tr>\n",
       "      <th>25%</th>\n",
       "      <td>514.000000</td>\n",
       "      <td>359000.000000</td>\n",
       "      <td>827.000000</td>\n",
       "      <td>34.000000</td>\n",
       "      <td>0.000000</td>\n",
       "      <td>0.000000e+00</td>\n",
       "      <td>0.000000</td>\n",
       "      <td>0.000000e+00</td>\n",
       "      <td>0.000000</td>\n",
       "      <td>0.000000e+00</td>\n",
       "      <td>0.000000</td>\n",
       "      <td>0.000000e+00</td>\n",
       "      <td>0.000000</td>\n",
       "      <td>0.000000e+00</td>\n",
       "      <td>0.000000</td>\n",
       "      <td>0.000000e+00</td>\n",
       "      <td>1.000000</td>\n",
       "      <td>0.000000e+00</td>\n",
       "    </tr>\n",
       "    <tr>\n",
       "      <th>50%</th>\n",
       "      <td>1027.000000</td>\n",
       "      <td>429000.000000</td>\n",
       "      <td>846.000000</td>\n",
       "      <td>38.000000</td>\n",
       "      <td>0.000000</td>\n",
       "      <td>0.000000e+00</td>\n",
       "      <td>0.000000</td>\n",
       "      <td>0.000000e+00</td>\n",
       "      <td>0.000000</td>\n",
       "      <td>0.000000e+00</td>\n",
       "      <td>0.000000</td>\n",
       "      <td>0.000000e+00</td>\n",
       "      <td>0.000000</td>\n",
       "      <td>0.000000e+00</td>\n",
       "      <td>0.000000</td>\n",
       "      <td>0.000000e+00</td>\n",
       "      <td>1.000000</td>\n",
       "      <td>0.000000e+00</td>\n",
       "    </tr>\n",
       "    <tr>\n",
       "      <th>75%</th>\n",
       "      <td>1540.000000</td>\n",
       "      <td>632000.000000</td>\n",
       "      <td>865.000000</td>\n",
       "      <td>45.000000</td>\n",
       "      <td>1.000000</td>\n",
       "      <td>2.200000e+06</td>\n",
       "      <td>0.000000</td>\n",
       "      <td>0.000000e+00</td>\n",
       "      <td>0.000000</td>\n",
       "      <td>0.000000e+00</td>\n",
       "      <td>0.000000</td>\n",
       "      <td>0.000000e+00</td>\n",
       "      <td>0.000000</td>\n",
       "      <td>0.000000e+00</td>\n",
       "      <td>0.000000</td>\n",
       "      <td>0.000000e+00</td>\n",
       "      <td>2.000000</td>\n",
       "      <td>1.000000e+05</td>\n",
       "    </tr>\n",
       "    <tr>\n",
       "      <th>max</th>\n",
       "      <td>2053.000000</td>\n",
       "      <td>750000.000000</td>\n",
       "      <td>900.000000</td>\n",
       "      <td>55.000000</td>\n",
       "      <td>4.000000</td>\n",
       "      <td>6.590317e+07</td>\n",
       "      <td>5.000000</td>\n",
       "      <td>6.590317e+07</td>\n",
       "      <td>4.000000</td>\n",
       "      <td>3.530000e+06</td>\n",
       "      <td>3.000000</td>\n",
       "      <td>3.700000e+07</td>\n",
       "      <td>2.000000</td>\n",
       "      <td>2.123000e+08</td>\n",
       "      <td>3.000000</td>\n",
       "      <td>1.400000e+06</td>\n",
       "      <td>15.000000</td>\n",
       "      <td>1.133261e+06</td>\n",
       "    </tr>\n",
       "  </tbody>\n",
       "</table>\n",
       "</div>"
      ],
      "text/plain": [
       "               Sno         Target           V1           V2           V3  \\\n",
       "count  2053.000000    2053.000000  2053.000000  2053.000000  2053.000000   \n",
       "mean   1027.000000  469863.614223   841.081344    39.469557     0.471505   \n",
       "std     592.794371  183152.965251    32.133762     7.212973     0.678112   \n",
       "min       1.000000  147000.000000   721.000000    25.000000     0.000000   \n",
       "25%     514.000000  359000.000000   827.000000    34.000000     0.000000   \n",
       "50%    1027.000000  429000.000000   846.000000    38.000000     0.000000   \n",
       "75%    1540.000000  632000.000000   865.000000    45.000000     1.000000   \n",
       "max    2053.000000  750000.000000   900.000000    55.000000     4.000000   \n",
       "\n",
       "                 V4           V5            V6           V7            V8  \\\n",
       "count  2.053000e+03  2053.000000  2.053000e+03  2053.000000  2.053000e+03   \n",
       "mean   1.437942e+06     0.226985  5.403381e+05     0.177789  7.062270e+04   \n",
       "std    3.286544e+06     0.548001  2.410844e+06     0.444868  2.608625e+05   \n",
       "min    0.000000e+00     0.000000  0.000000e+00     0.000000  0.000000e+00   \n",
       "25%    0.000000e+00     0.000000  0.000000e+00     0.000000  0.000000e+00   \n",
       "50%    0.000000e+00     0.000000  0.000000e+00     0.000000  0.000000e+00   \n",
       "75%    2.200000e+06     0.000000  0.000000e+00     0.000000  0.000000e+00   \n",
       "max    6.590317e+07     5.000000  6.590317e+07     4.000000  3.530000e+06   \n",
       "\n",
       "                V9           V10          V11           V12          V13  \\\n",
       "count  2053.000000  2.053000e+03  2053.000000  2.053000e+03  2053.000000   \n",
       "mean      0.237214  1.837478e+05     0.004384  1.062591e+05     0.003410   \n",
       "std       0.510836  9.706686e+05     0.079474  4.685899e+06     0.079521   \n",
       "min       0.000000  0.000000e+00     0.000000  0.000000e+00     0.000000   \n",
       "25%       0.000000  0.000000e+00     0.000000  0.000000e+00     0.000000   \n",
       "50%       0.000000  0.000000e+00     0.000000  0.000000e+00     0.000000   \n",
       "75%       0.000000  0.000000e+00     0.000000  0.000000e+00     0.000000   \n",
       "max       3.000000  3.700000e+07     2.000000  2.123000e+08     3.000000   \n",
       "\n",
       "                V14          V15           V16  \n",
       "count  2.053000e+03  2053.000000  2.053000e+03  \n",
       "mean   2.318558e+03     1.451047  6.787432e+04  \n",
       "std    5.063420e+04     0.778090  1.189231e+05  \n",
       "min    0.000000e+00     0.000000  0.000000e+00  \n",
       "25%    0.000000e+00     1.000000  0.000000e+00  \n",
       "50%    0.000000e+00     1.000000  0.000000e+00  \n",
       "75%    0.000000e+00     2.000000  1.000000e+05  \n",
       "max    1.400000e+06    15.000000  1.133261e+06  "
      ]
     },
     "execution_count": 109,
     "metadata": {},
     "output_type": "execute_result"
    }
   ],
   "source": [
    "train.describe()"
   ]
  },
  {
   "cell_type": "code",
   "execution_count": 110,
   "metadata": {},
   "outputs": [
    {
     "data": {
      "text/plain": [
       "False"
      ]
     },
     "execution_count": 110,
     "metadata": {},
     "output_type": "execute_result"
    }
   ],
   "source": [
    "train.isnull().values.any()"
   ]
  },
  {
   "cell_type": "markdown",
   "metadata": {},
   "source": [
    "### At this point our trainning data set is clean and Free From Missing Values"
   ]
  },
  {
   "cell_type": "markdown",
   "metadata": {},
   "source": [
    "## STEP 5 Data Preprocessing"
   ]
  },
  {
   "cell_type": "code",
   "execution_count": 18,
   "metadata": {
    "collapsed": true
   },
   "outputs": [],
   "source": [
    "from sklearn.preprocessing import RobustScaler"
   ]
  },
  {
   "cell_type": "code",
   "execution_count": 19,
   "metadata": {
    "collapsed": true
   },
   "outputs": [],
   "source": [
    "x_rob=RobustScaler(quantile_range=(25, 75)).fit_transform(x_train)"
   ]
  },
  {
   "cell_type": "code",
   "execution_count": 113,
   "metadata": {},
   "outputs": [
    {
     "data": {
      "text/plain": [
       "[<matplotlib.lines.Line2D at 0x1e83b90a390>,\n",
       " <matplotlib.lines.Line2D at 0x1e83b90a4e0>,\n",
       " <matplotlib.lines.Line2D at 0x1e83b90a630>,\n",
       " <matplotlib.lines.Line2D at 0x1e83b90a780>,\n",
       " <matplotlib.lines.Line2D at 0x1e83b90a8d0>,\n",
       " <matplotlib.lines.Line2D at 0x1e83b90aa20>,\n",
       " <matplotlib.lines.Line2D at 0x1e83b90ab70>,\n",
       " <matplotlib.lines.Line2D at 0x1e83b90acc0>,\n",
       " <matplotlib.lines.Line2D at 0x1e83b90ae10>,\n",
       " <matplotlib.lines.Line2D at 0x1e83b90af60>,\n",
       " <matplotlib.lines.Line2D at 0x1e83bcb5dd8>,\n",
       " <matplotlib.lines.Line2D at 0x1e83b909208>,\n",
       " <matplotlib.lines.Line2D at 0x1e83b909358>,\n",
       " <matplotlib.lines.Line2D at 0x1e83b9094a8>,\n",
       " <matplotlib.lines.Line2D at 0x1e83b9095f8>,\n",
       " <matplotlib.lines.Line2D at 0x1e83b909748>]"
      ]
     },
     "execution_count": 113,
     "metadata": {},
     "output_type": "execute_result"
    },
    {
     "data": {
      "image/png": "[encoded data removed]",
      "text/plain": [
       "<matplotlib.figure.Figure at 0x1e83962def0>"
      ]
     },
     "metadata": {},
     "output_type": "display_data"
    }
   ],
   "source": [
    "%matplotlib inline\n",
    "plt.plot(x_rob)"
   ]
  },
  {
   "cell_type": "code",
   "execution_count": 114,
   "metadata": {},
   "outputs": [
    {
     "data": {
      "text/plain": [
       "[<matplotlib.lines.Line2D at 0x1e83bac30b8>,\n",
       " <matplotlib.lines.Line2D at 0x1e83bac3208>,\n",
       " <matplotlib.lines.Line2D at 0x1e83bac3358>,\n",
       " <matplotlib.lines.Line2D at 0x1e83bac34a8>,\n",
       " <matplotlib.lines.Line2D at 0x1e83bac35f8>,\n",
       " <matplotlib.lines.Line2D at 0x1e83bac3748>,\n",
       " <matplotlib.lines.Line2D at 0x1e83bac3898>,\n",
       " <matplotlib.lines.Line2D at 0x1e83bac39e8>,\n",
       " <matplotlib.lines.Line2D at 0x1e83bac3b38>,\n",
       " <matplotlib.lines.Line2D at 0x1e83bac3c88>,\n",
       " <matplotlib.lines.Line2D at 0x1e83ba6ff28>,\n",
       " <matplotlib.lines.Line2D at 0x1e83bac3ef0>,\n",
       " <matplotlib.lines.Line2D at 0x1e83bac9080>,\n",
       " <matplotlib.lines.Line2D at 0x1e83bac91d0>,\n",
       " <matplotlib.lines.Line2D at 0x1e83bac9320>,\n",
       " <matplotlib.lines.Line2D at 0x1e83bac9470>]"
      ]
     },
     "execution_count": 114,
     "metadata": {},
     "output_type": "execute_result"
    },
    {
     "data": {
      "image/png": "[encoded data removed]",
      "text/plain": [
       "<matplotlib.figure.Figure at 0x1e83ba82eb8>"
      ]
     },
     "metadata": {},
     "output_type": "display_data"
    }
   ],
   "source": [
    "plt.plot(x_train)"
   ]
  },
  {
   "cell_type": "markdown",
   "metadata": {},
   "source": [
    "Plot Shows Massive Outliers in our Data"
   ]
  },
  {
   "cell_type": "markdown",
   "metadata": {},
   "source": [
    "Lets Analyse Independent Variables"
   ]
  },
  {
   "cell_type": "code",
   "execution_count": 115,
   "metadata": {},
   "outputs": [
    {
     "data": {
      "text/plain": [
       "[<matplotlib.lines.Line2D at 0x1e83bb45198>]"
      ]
     },
     "execution_count": 115,
     "metadata": {},
     "output_type": "execute_result"
    },
    {
     "data": {
      "image/png": "[encoded data removed]",
      "text/plain": [
       "<matplotlib.figure.Figure at 0x1e83ba88400>"
      ]
     },
     "metadata": {},
     "output_type": "display_data"
    }
   ],
   "source": [
    "plt.plot(train.V11)"
   ]
  },
  {
   "cell_type": "code",
   "execution_count": 116,
   "metadata": {},
   "outputs": [
    {
     "data": {
      "text/plain": [
       "[<matplotlib.lines.Line2D at 0x1e83a2915c0>]"
      ]
     },
     "execution_count": 116,
     "metadata": {},
     "output_type": "execute_result"
    },
    {
     "data": {
      "image/png": "[encoded data removed]",
      "text/plain": [
       "<matplotlib.figure.Figure at 0x1e83bb55710>"
      ]
     },
     "metadata": {},
     "output_type": "display_data"
    }
   ],
   "source": [
    "plt.plot(train.V12)"
   ]
  },
  {
   "cell_type": "code",
   "execution_count": 117,
   "metadata": {},
   "outputs": [
    {
     "data": {
      "text/plain": [
       "[<matplotlib.lines.Line2D at 0x1e83b3b8278>]"
      ]
     },
     "execution_count": 117,
     "metadata": {},
     "output_type": "execute_result"
    },
    {
     "data": {
      "image/png": "[encoded data removed]",
      "text/plain": [
       "<matplotlib.figure.Figure at 0x1e83b4970f0>"
      ]
     },
     "metadata": {},
     "output_type": "display_data"
    }
   ],
   "source": [
    "plt.plot(train.V13)"
   ]
  },
  {
   "cell_type": "code",
   "execution_count": 118,
   "metadata": {},
   "outputs": [
    {
     "data": {
      "text/plain": [
       "[<matplotlib.lines.Line2D at 0x1e83bc11c88>]"
      ]
     },
     "execution_count": 118,
     "metadata": {},
     "output_type": "execute_result"
    },
    {
     "data": {
      "image/png": "[encoded data removed]",
      "text/plain": [
       "<matplotlib.figure.Figure at 0x1e83b491128>"
      ]
     },
     "metadata": {},
     "output_type": "display_data"
    }
   ],
   "source": [
    "plt.plot(train.V14)"
   ]
  },
  {
   "cell_type": "markdown",
   "metadata": {},
   "source": [
    "We can remove V11-V14 as they only have outliers in our data."
   ]
  },
  {
   "cell_type": "code",
   "execution_count": 20,
   "metadata": {
    "collapsed": true
   },
   "outputs": [],
   "source": [
    "train.drop(['V11','V12','V13','V14'],axis=1,inplace=True)\n",
    "valid.drop(['V11','V12','V13','V14'],axis=1,inplace=True)\n",
    "x=train.iloc[:,2:].values\n",
    "y=train.iloc[:,1].values\n",
    "x_train, x_test, y_train, y_test = train_test_split(x, y, test_size = 0.2, random_state = 0)\n",
    "x_val=valid.iloc[:,2:].values\n",
    "y_val=valid.iloc[:,1].values"
   ]
  },
  {
   "cell_type": "markdown",
   "metadata": {},
   "source": [
    "## STEP 6 Modelling"
   ]
  },
  {
   "cell_type": "markdown",
   "metadata": {},
   "source": [
    "### Decision Tree Modelling"
   ]
  },
  {
   "cell_type": "code",
   "execution_count": 120,
   "metadata": {},
   "outputs": [
    {
     "data": {
      "text/plain": [
       "0.57813953083007619"
      ]
     },
     "execution_count": 120,
     "metadata": {},
     "output_type": "execute_result"
    }
   ],
   "source": [
    "\n",
    "from sklearn.tree import DecisionTreeRegressor\n",
    "regressorDt = DecisionTreeRegressor(max_depth=9,criterion='mae')\n",
    "regressorDt.fit(x_train, y_train)\n",
    "y_pred_Dt = regressorDt.predict(x_test)\n",
    "from sklearn.metrics import r2_score\n",
    "r2_score(y_test, y_pred_Dt)\n"
   ]
  },
  {
   "cell_type": "code",
   "execution_count": 121,
   "metadata": {},
   "outputs": [
    {
     "data": {
      "text/plain": [
       "0.47380629851346867"
      ]
     },
     "execution_count": 121,
     "metadata": {},
     "output_type": "execute_result"
    }
   ],
   "source": [
    "y_val_DT = regressorDt.predict(x_val)\n",
    "r2_score(y_val, y_val_DT)"
   ]
  },
  {
   "cell_type": "markdown",
   "metadata": {},
   "source": [
    "### Random Forest Modelling"
   ]
  },
  {
   "cell_type": "code",
   "execution_count": 122,
   "metadata": {},
   "outputs": [
    {
     "data": {
      "text/plain": [
       "0.65262138014469873"
      ]
     },
     "execution_count": 122,
     "metadata": {},
     "output_type": "execute_result"
    }
   ],
   "source": [
    "from sklearn.ensemble import RandomForestRegressor\n",
    "\n",
    "regressor_RF = RandomForestRegressor(n_estimators=250,max_depth=14 )\n",
    "\n",
    "regressor_RF.fit(x_train, y_train)\n",
    "\n",
    "\n",
    "y_pred_RF = regressor_RF.predict(x_test)\n",
    "\n",
    "\n",
    "r2_score(y_test, y_pred_RF)"
   ]
  },
  {
   "cell_type": "code",
   "execution_count": 123,
   "metadata": {},
   "outputs": [
    {
     "data": {
      "text/plain": [
       "0.58369724383472643"
      ]
     },
     "execution_count": 123,
     "metadata": {},
     "output_type": "execute_result"
    }
   ],
   "source": [
    "y_val_RF = regressor_RF.predict(x_val)\n",
    "r2_score(y_val, y_val_RF)"
   ]
  },
  {
   "cell_type": "markdown",
   "metadata": {},
   "source": [
    "### Finally Random Forest gave ~0.65 Rsquared for test Set and ~0.60 Rsquared for Validation Set \n",
    "##### Decison Tree gave ~0.60 Rsquared for test Set and ~0.50 Rsquared for Validation Set \n",
    "\n",
    "Variable y_val_RF have Final Validation Predicitons"
   ]
  },
  {
   "cell_type": "code",
   "execution_count": 103,
   "metadata": {
    "collapsed": true
   },
   "outputs": [],
   "source": [
    "from sklearn import ensemble\n",
    "clf = ensemble.GradientBoostingRegressor(n_estimators = 100, max_depth = 9,\n",
    "          learning_rate = 0.05, loss = 'ls',criterion='mae',max_features='sqrt')"
   ]
  },
  {
   "cell_type": "code",
   "execution_count": 104,
   "metadata": {},
   "outputs": [
    {
     "data": {
      "text/plain": [
       "GradientBoostingRegressor(alpha=0.9, criterion='mae', init=None,\n",
       "             learning_rate=0.05, loss='ls', max_depth=9,\n",
       "             max_features='sqrt', max_leaf_nodes=None,\n",
       "             min_impurity_decrease=0.0, min_impurity_split=None,\n",
       "             min_samples_leaf=1, min_samples_split=2,\n",
       "             min_weight_fraction_leaf=0.0, n_estimators=100,\n",
       "             presort='auto', random_state=None, subsample=1.0, verbose=0,\n",
       "             warm_start=False)"
      ]
     },
     "execution_count": 104,
     "metadata": {},
     "output_type": "execute_result"
    }
   ],
   "source": [
    "clf.fit(x_train, y_train)"
   ]
  },
  {
   "cell_type": "code",
   "execution_count": 105,
   "metadata": {},
   "outputs": [
    {
     "data": {
      "text/plain": [
       "0.65990050060422178"
      ]
     },
     "execution_count": 105,
     "metadata": {},
     "output_type": "execute_result"
    }
   ],
   "source": [
    "clf.score(x_test,y_test)"
   ]
  },
  {
   "cell_type": "code",
   "execution_count": null,
   "metadata": {
    "collapsed": true
   },
   "outputs": [],
   "source": []
  },
  {
   "cell_type": "code",
   "execution_count": null,
   "metadata": {
    "collapsed": true
   },
   "outputs": [],
   "source": []
  }
 ],
 "metadata": {
  "kernelspec": {
   "display_name": "Python 3",
   "language": "python",
   "name": "python3"
  },
  "language_info": {
   "codemirror_mode": {
    "name": "ipython",
    "version": 3
   },
   "file_extension": ".py",
   "mimetype": "text/x-python",
   "name": "python",
   "nbconvert_exporter": "python",
   "pygments_lexer": "ipython3",
   "version": "3.6.3"
  }
 },
 "nbformat": 4,
 "nbformat_minor": 2
}
